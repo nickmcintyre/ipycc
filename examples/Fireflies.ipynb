{
 "cells": [
  {
   "cell_type": "code",
   "execution_count": 1,
   "id": "4b6e614e-a85b-43cf-9875-e5ed211a10d9",
   "metadata": {},
   "outputs": [],
   "source": [
    "import math\n",
    "from random import uniform\n",
    "from jupy5 import Sketch"
   ]
  },
  {
   "cell_type": "code",
   "execution_count": 2,
   "id": "143080fe-e3a9-47ae-92a5-7f43cada0818",
   "metadata": {
    "tags": []
   },
   "outputs": [
    {
     "data": {
      "application/vnd.jupyter.widget-view+json": {
       "model_id": "f86b492031314fe1836a5bdad400cebc",
       "version_major": 2,
       "version_minor": 0
      },
      "text/plain": [
       "HBox(children=(Box(children=(Canvas(height=400, width=400),), layout=Layout(height='400px', width='400px')), V…"
      ]
     },
     "metadata": {},
     "output_type": "display_data"
    }
   ],
   "source": [
    "p5 = Sketch(400, 400)\n",
    "coupling = 1\n",
    "num_bugs = 10\n",
    "k_n = coupling / num_bugs\n",
    "\n",
    "class Bug:\n",
    "    def __init__(self):\n",
    "        self.x = p5.width * 0.5\n",
    "        self.y = p5.height * 0.5\n",
    "        self.r = 5\n",
    "        self.angle = uniform(0, math.tau)\n",
    "        self.freq = uniform(5, 10)\n",
    "        self.da_dt = 0\n",
    "        self.dt = 0.01\n",
    "\n",
    "    def render(self):\n",
    "        p5.fill('ghostwhite')\n",
    "        p5.no_stroke()\n",
    "        p5.circle(self.x, self.y, 2 * self.r)\n",
    "\n",
    "    def update(self):\n",
    "        self.angle += self.da_dt * self.dt\n",
    "        self.x += math.cos(self.angle)\n",
    "        self.y += math.sin(self.angle)\n",
    "\n",
    "    def sync(self, bugs):\n",
    "        self.da_dt = self.freq\n",
    "        for bug in bugs:\n",
    "            self.da_dt += k_n * math.sin(bug.angle - self.angle)\n",
    "\n",
    "bugs = [Bug() for _ in range(num_bugs)]\n",
    "\n",
    "def draw():\n",
    "    p5.background('#1919706F')\n",
    "    for bug in bugs:\n",
    "        bug.sync(bugs)\n",
    "\n",
    "    for bug in bugs:\n",
    "        bug.update()\n",
    "        bug.render()\n",
    "\n",
    "p5.draw(draw, 10)"
   ]
  }
 ],
 "metadata": {
  "kernelspec": {
   "display_name": "Python 3 (ipykernel)",
   "language": "python",
   "name": "python3"
  },
  "language_info": {
   "codemirror_mode": {
    "name": "ipython",
    "version": 3
   },
   "file_extension": ".py",
   "mimetype": "text/x-python",
   "name": "python",
   "nbconvert_exporter": "python",
   "pygments_lexer": "ipython3",
   "version": "3.10.8"
  },
  "vscode": {
   "interpreter": {
    "hash": "7b5c4d2001323a33e2ff63802920bb59fd3144534881f3cee2ba181954f2f416"
   }
  }
 },
 "nbformat": 4,
 "nbformat_minor": 5
}
