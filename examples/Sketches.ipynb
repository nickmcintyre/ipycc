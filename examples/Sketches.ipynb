{
 "cells": [
  {
   "cell_type": "code",
   "execution_count": 1,
   "id": "09516563-1c23-45a4-827a-aa812abec0bb",
   "metadata": {},
   "outputs": [],
   "source": [
    "from jupy5 import Sketch"
   ]
  },
  {
   "cell_type": "code",
   "execution_count": 2,
   "id": "22edcdb4-15ad-4bef-a5d9-204ac100b5d2",
   "metadata": {
    "tags": []
   },
   "outputs": [
    {
     "data": {
      "application/vnd.jupyter.widget-view+json": {
       "model_id": "e0f2c9d223ec411aa2d0c25861c4e33c",
       "version_major": 2,
       "version_minor": 0
      },
      "text/plain": [
       "Sketch(height=200, width=200)"
      ]
     },
     "metadata": {},
     "output_type": "display_data"
    }
   ],
   "source": [
    "p5 = Sketch(200, 200)\n",
    "p5"
   ]
  },
  {
   "cell_type": "code",
   "execution_count": 3,
   "id": "dd0f5470-729d-4158-9bc4-37d2a66094b2",
   "metadata": {},
   "outputs": [],
   "source": [
    "p5.background('dodgerblue')"
   ]
  },
  {
   "cell_type": "code",
   "execution_count": 4,
   "id": "87eaa84e-0a7d-4abb-aa51-9e7d8c8f8faf",
   "metadata": {},
   "outputs": [],
   "source": [
    "p5.circle(p5.width * 0.5, p5.height * 0.5, 10)"
   ]
  },
  {
   "cell_type": "code",
   "execution_count": 5,
   "id": "642d6f73-ccc2-44cb-ae75-4ef7f5f5f6db",
   "metadata": {},
   "outputs": [],
   "source": [
    "def draw():\n",
    "    p5.circle(p5.mouse_x, p5.mouse_y, 10)\n",
    "    if p5.key_is_pressed:\n",
    "        p5.background('dodgerblue')\n",
    "\n",
    "p5.draw(draw, 10)"
   ]
  }
 ],
 "metadata": {
  "kernelspec": {
   "display_name": "Python 3.10.6 ('jupy5')",
   "language": "python",
   "name": "python3"
  },
  "language_info": {
   "codemirror_mode": {
    "name": "ipython",
    "version": 3
   },
   "file_extension": ".py",
   "mimetype": "text/x-python",
   "name": "python",
   "nbconvert_exporter": "python",
   "pygments_lexer": "ipython3",
   "version": "3.10.6"
  },
  "vscode": {
   "interpreter": {
    "hash": "7b5c4d2001323a33e2ff63802920bb59fd3144534881f3cee2ba181954f2f416"
   }
  }
 },
 "nbformat": 4,
 "nbformat_minor": 5
}
