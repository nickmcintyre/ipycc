{
 "cells": [
  {
   "cell_type": "code",
   "execution_count": 1,
   "id": "a6df356e-a867-4a2d-abbd-1b18eb7a1e92",
   "metadata": {},
   "outputs": [],
   "source": [
    "from jupy5 import sketch"
   ]
  },
  {
   "cell_type": "code",
   "execution_count": 2,
   "id": "c54f4e6e-e237-4162-a0a9-b9e3faad63c3",
   "metadata": {},
   "outputs": [],
   "source": [
    "with sketch(400, 400) as p5:\n",
    "    await p5.pause(1)"
   ]
  },
  {
   "cell_type": "code",
   "execution_count": 3,
   "id": "c570c081-64e2-4bfd-9094-071208831fd8",
   "metadata": {},
   "outputs": [],
   "source": [
    "with sketch(400, 400) as p5:\n",
    "    p5.background('dodgerblue')\n",
    "    \n",
    "    await p5.pause(4)"
   ]
  },
  {
   "cell_type": "code",
   "execution_count": 4,
   "id": "1082be06-755f-439e-9b3e-90b666547c51",
   "metadata": {},
   "outputs": [],
   "source": [
    "with sketch(400, 400) as p5:\n",
    "    p5.background('dodgerblue')\n",
    "    \n",
    "    p5.point(200, 200)\n",
    "    \n",
    "    await p5.pause(4)"
   ]
  },
  {
   "cell_type": "code",
   "execution_count": 5,
   "id": "03911d8f-4f8f-44b4-a7c9-3451651ce2eb",
   "metadata": {},
   "outputs": [],
   "source": [
    "with sketch(400, 400) as p5:\n",
    "    p5.background('dodgerblue')\n",
    "\n",
    "    p5.stroke('white')\n",
    "    p5.stroke_weight(5)\n",
    "    p5.point(200, 200)\n",
    "    \n",
    "    await p5.pause(4)"
   ]
  },
  {
   "cell_type": "code",
   "execution_count": 6,
   "id": "83070716-efb9-4470-a5a3-640dfaa6d813",
   "metadata": {},
   "outputs": [],
   "source": [
    "with sketch(400, 400) as p5:\n",
    "    p5.background('dodgerblue')\n",
    "\n",
    "    p5.circle(200, 200, 50)\n",
    "    \n",
    "    await p5.pause(4)"
   ]
  },
  {
   "cell_type": "code",
   "execution_count": 7,
   "id": "71a97df5-fdc3-45c3-b742-f19ce3fd181b",
   "metadata": {},
   "outputs": [],
   "source": [
    "with sketch(400, 400) as p5:\n",
    "    p5.background('dodgerblue')\n",
    "    \n",
    "    p5.fill('limegreen')\n",
    "    p5.stroke('orange')\n",
    "    p5.circle(200, 200, 50)\n",
    "    \n",
    "    await p5.pause(4)"
   ]
  },
  {
   "cell_type": "code",
   "execution_count": 11,
   "id": "8c9a19a0-1226-48fc-92fa-ac5457a9ebfc",
   "metadata": {},
   "outputs": [],
   "source": [
    "with sketch(400, 400) as p5:\n",
    "    p5.background('dodgerblue')\n",
    "    \n",
    "    p5.fill('limegreen')\n",
    "    p5.stroke('orange')\n",
    "    p5.stroke_weight(5)\n",
    "    p5.circle(200, 200, 50)\n",
    "    \n",
    "    await p5.pause(4)"
   ]
  },
  {
   "cell_type": "code",
   "execution_count": null,
   "id": "e235ee80-8b5f-43f8-b04a-37fba333ecc0",
   "metadata": {},
   "outputs": [],
   "source": [
    "with sketch(400, 400) as p5:\n",
    "    p5.background('dodgerblue')\n",
    "    \n",
    "    p5.fill('limegreen')\n",
    "    p5.stroke('orange')\n",
    "    p5.stroke_weight(5)\n",
    "    x = 200\n",
    "    y = 200\n",
    "    r = 25\n",
    "    p5.circle(x, y, 2 * r)\n",
    "    \n",
    "    await p5.pause(4)"
   ]
  },
  {
   "cell_type": "code",
   "execution_count": null,
   "id": "871069b9",
   "metadata": {},
   "outputs": [],
   "source": [
    "with sketch(400, 400) as p5:\n",
    "    p5.background('dodgerblue')\n",
    "    \n",
    "    p5.fill('limegreen')\n",
    "    p5.stroke('orange')\n",
    "    p5.stroke_weight(5)\n",
    "    \n",
    "    x = 0\n",
    "    y = 200\n",
    "    r = 25\n",
    "    \n",
    "    while x < p5.width:\n",
    "        p5.circle(x, y, 2 * r)\n",
    "        x += 1\n",
    "    \n",
    "    await p5.pause(4)"
   ]
  },
  {
   "cell_type": "code",
   "execution_count": null,
   "id": "5742d969",
   "metadata": {},
   "outputs": [],
   "source": [
    "with sketch(400, 400) as p5:\n",
    "    p5.background('dodgerblue')\n",
    "\n",
    "    p5.fill('limegreen')\n",
    "    p5.stroke('orange')\n",
    "    p5.stroke_weight(5)\n",
    "\n",
    "    x = 0\n",
    "    y = 200\n",
    "    r = 25\n",
    "\n",
    "    while x < p5.width:\n",
    "        p5.circle(x, y, 2 * r)\n",
    "        x += 1"
   ]
  },
  {
   "cell_type": "code",
   "execution_count": null,
   "id": "f19fdeca",
   "metadata": {},
   "outputs": [],
   "source": [
    "with sketch(400, 400) as p5:\n",
    "    p5.background('dodgerblue')\n",
    "\n",
    "    p5.fill('limegreen')\n",
    "    p5.stroke('orange')\n",
    "    p5.stroke_weight(5)\n",
    "\n",
    "    x = 0\n",
    "    y = 200\n",
    "    r = 25\n",
    "\n",
    "    while x < p5.width:\n",
    "        p5.circle(x, y, 2 * r)\n",
    "        x += 1\n",
    "        await p5.pause(0.02)"
   ]
  },
  {
   "cell_type": "code",
   "execution_count": null,
   "id": "d4dac4f7",
   "metadata": {},
   "outputs": [],
   "source": [
    "with sketch(400, 400) as p5:\n",
    "    p5.fill('limegreen')\n",
    "    p5.stroke('orange')\n",
    "    p5.stroke_weight(5)\n",
    "\n",
    "    x = 0\n",
    "    y = 200\n",
    "    r = 25\n",
    "\n",
    "    while x < p5.width:\n",
    "        p5.background('dodgerblue')\n",
    "        p5.circle(x, y, 2 * r)\n",
    "        x += 1\n",
    "        await p5.pause(0.02)"
   ]
  },
  {
   "cell_type": "code",
   "execution_count": null,
   "id": "88ee8510",
   "metadata": {},
   "outputs": [],
   "source": [
    "with sketch(400, 400) as p5:\n",
    "    p5.fill('limegreen')\n",
    "    p5.stroke('orange')\n",
    "    p5.stroke_weight(5)\n",
    "    \n",
    "    x = 0\n",
    "    y = 200\n",
    "    r = 25\n",
    "    \n",
    "    def draw():\n",
    "        global x\n",
    "        p5.background('dodgerblue')\n",
    "        p5.circle(x, y, 2 * r)\n",
    "        x += 1\n",
    "    \n",
    "    await p5.loop(draw, 10)"
   ]
  },
  {
   "cell_type": "code",
   "execution_count": null,
   "id": "79eccf9a",
   "metadata": {},
   "outputs": [],
   "source": [
    "with sketch(400, 400) as p5:\n",
    "    p5.fill('limegreen')\n",
    "    p5.stroke('orange')\n",
    "    p5.stroke_weight(5)\n",
    "    \n",
    "    x = 0\n",
    "    y = 200\n",
    "    r = 25\n",
    "    \n",
    "    def draw():\n",
    "        global x\n",
    "        p5.background('dodgerblue')\n",
    "        p5.circle(x, y, 2 * r)\n",
    "        x += 1\n",
    "        if x > 400:\n",
    "            p5.stop()\n",
    "    \n",
    "    await p5.loop(draw, 10)"
   ]
  },
  {
   "cell_type": "code",
   "execution_count": null,
   "id": "494957bf",
   "metadata": {},
   "outputs": [],
   "source": [
    "with sketch(400, 400) as p5:\n",
    "    p5.fill('limegreen')\n",
    "    p5.stroke('orange')\n",
    "    p5.stroke_weight(5)\n",
    "    \n",
    "    x = 0\n",
    "    y = 200\n",
    "    r = 25\n",
    "    \n",
    "    def draw():\n",
    "        global x\n",
    "        p5.background('dodgerblue')\n",
    "        p5.circle(x, y, 2 * r)\n",
    "        x += 1\n",
    "        if x > 400:\n",
    "            p5.stop()\n",
    "    \n",
    "    await p5.loop(draw)"
   ]
  }
 ],
 "metadata": {
  "kernelspec": {
   "display_name": "Python 3 (ipykernel)",
   "language": "python",
   "name": "python3"
  },
  "language_info": {
   "codemirror_mode": {
    "name": "ipython",
    "version": 3
   },
   "file_extension": ".py",
   "mimetype": "text/x-python",
   "name": "python",
   "nbconvert_exporter": "python",
   "pygments_lexer": "ipython3",
   "version": "3.10.6"
  }
 },
 "nbformat": 4,
 "nbformat_minor": 5
}
