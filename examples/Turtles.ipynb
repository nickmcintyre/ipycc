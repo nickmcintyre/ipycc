{
 "cells": [
  {
   "cell_type": "code",
   "execution_count": 1,
   "metadata": {},
   "outputs": [],
   "source": [
    "from ipycc import Turtle"
   ]
  },
  {
   "cell_type": "code",
   "execution_count": 2,
   "metadata": {},
   "outputs": [
    {
     "data": {
      "application/vnd.jupyter.widget-view+json": {
       "model_id": "d0d21cfda50b48cab5cca40ade5bc97f",
       "version_major": 2,
       "version_minor": 0
      },
      "text/plain": [
       "HBox(children=(Box(children=(Canvas(height=200, width=200),), layout=Layout(height='200px', width='200px')), V…"
      ]
     },
     "metadata": {},
     "output_type": "display_data"
    }
   ],
   "source": [
    "ted = Turtle()\n",
    "ted.pendown()\n",
    "ted.fd(50)\n",
    "ted.draw()"
   ]
  },
  {
   "cell_type": "code",
   "execution_count": 3,
   "metadata": {},
   "outputs": [
    {
     "data": {
      "application/vnd.jupyter.widget-view+json": {
       "model_id": "9c229fda6a43467d975d380f3c4ac245",
       "version_major": 2,
       "version_minor": 0
      },
      "text/plain": [
       "HBox(children=(Box(children=(Canvas(height=200, width=200),), layout=Layout(height='200px', width='200px')), V…"
      ]
     },
     "metadata": {},
     "output_type": "display_data"
    }
   ],
   "source": [
    "ted = Turtle()\n",
    "ted.draw()\n",
    "ted.bgcolor(\"midnightblue\")\n",
    "ted.pencolor(\"ghostwhite\")\n",
    "ted.pensize(2)\n",
    "ted.pendown()\n",
    "for side in range(4):\n",
    "    ted.fd(50)\n",
    "    ted.lt(90)\n",
    "    await ted.delay(1)"
   ]
  },
  {
   "cell_type": "code",
   "execution_count": 4,
   "metadata": {},
   "outputs": [
    {
     "data": {
      "application/vnd.jupyter.widget-view+json": {
       "model_id": "a1565b98fb144058b47c079460053ea0",
       "version_major": 2,
       "version_minor": 0
      },
      "text/plain": [
       "HBox(children=(Box(children=(Canvas(height=200, width=200),), layout=Layout(height='200px', width='200px')), V…"
      ]
     },
     "metadata": {},
     "output_type": "display_data"
    }
   ],
   "source": [
    "ted = Turtle()\n",
    "ted.bgcolor(\"midnightblue\")\n",
    "ted.pencolor(\"ghostwhite\")\n",
    "ted.pendown()\n",
    "ted.pensize(4)\n",
    "ted.fillcolor(\"darkorchid\")\n",
    "ted.begin_fill()\n",
    "ted.begin_poly()\n",
    "for side in range(4):\n",
    "    ted.fd(50)\n",
    "    ted.lt(90)\n",
    "ted.end_poly()\n",
    "ted.draw()"
   ]
  },
  {
   "cell_type": "code",
   "execution_count": 5,
   "metadata": {
    "editable": true,
    "slideshow": {
     "slide_type": ""
    },
    "tags": []
   },
   "outputs": [
    {
     "data": {
      "application/vnd.jupyter.widget-view+json": {
       "model_id": "0a8a1e06aa474842877c2c29f0511a67",
       "version_major": 2,
       "version_minor": 0
      },
      "text/plain": [
       "HBox(children=(Box(children=(Canvas(height=200, width=200),), layout=Layout(height='200px', width='200px')), V…"
      ]
     },
     "metadata": {},
     "output_type": "display_data"
    }
   ],
   "source": [
    "ted = Turtle()\n",
    "ted.draw()\n",
    "ted.bgcolor(\"midnightblue\")\n",
    "ted.pencolor(\"ghostwhite\")\n",
    "ted.pendown()\n",
    "side = 5\n",
    "while side < ted.width:\n",
    "    ted.fd(side)\n",
    "    ted.lt(90)\n",
    "    await ted.delay(0.1)\n",
    "    side += 5"
   ]
  }
 ],
 "metadata": {
  "kernelspec": {
   "display_name": "Python 3 (ipykernel)",
   "language": "python",
   "name": "python3"
  },
  "language_info": {
   "codemirror_mode": {
    "name": "ipython",
    "version": 3
   },
   "file_extension": ".py",
   "mimetype": "text/x-python",
   "name": "python",
   "nbconvert_exporter": "python",
   "pygments_lexer": "ipython3",
   "version": "3.10.9"
  },
  "vscode": {
   "interpreter": {
    "hash": "7b5c4d2001323a33e2ff63802920bb59fd3144534881f3cee2ba181954f2f416"
   }
  }
 },
 "nbformat": 4,
 "nbformat_minor": 4
}
