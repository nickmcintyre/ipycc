{
 "cells": [
  {
   "cell_type": "code",
   "execution_count": 1,
   "metadata": {},
   "outputs": [],
   "source": [
    "from ipycc import Turtle"
   ]
  },
  {
   "cell_type": "code",
   "execution_count": 2,
   "metadata": {},
   "outputs": [
    {
     "data": {
      "application/vnd.jupyter.widget-view+json": {
       "model_id": "35e79b4369f9493c9d7ded599d804959",
       "version_major": 2,
       "version_minor": 0
      },
      "text/plain": [
       "HBox(children=(Box(children=(Canvas(height=200, width=200),), layout=Layout(height='200px', width='200px')), V…"
      ]
     },
     "metadata": {},
     "output_type": "display_data"
    }
   ],
   "source": [
    "ted = Turtle()\n",
    "ted.draw()"
   ]
  },
  {
   "cell_type": "code",
   "execution_count": 3,
   "metadata": {},
   "outputs": [
    {
     "data": {
      "application/vnd.jupyter.widget-view+json": {
       "model_id": "50263003548f4c5eae70b547901881ca",
       "version_major": 2,
       "version_minor": 0
      },
      "text/plain": [
       "HBox(children=(Box(children=(Canvas(height=200, width=200),), layout=Layout(height='200px', width='200px')), V…"
      ]
     },
     "metadata": {},
     "output_type": "display_data"
    }
   ],
   "source": [
    "ted = Turtle()\n",
    "ted.fd(50)\n",
    "ted.draw()"
   ]
  },
  {
   "cell_type": "code",
   "execution_count": 4,
   "metadata": {},
   "outputs": [
    {
     "data": {
      "application/vnd.jupyter.widget-view+json": {
       "model_id": "b1ebd340c22247398b86272dad1c7b42",
       "version_major": 2,
       "version_minor": 0
      },
      "text/plain": [
       "HBox(children=(Box(children=(Canvas(height=200, width=200),), layout=Layout(height='200px', width='200px')), V…"
      ]
     },
     "metadata": {},
     "output_type": "display_data"
    }
   ],
   "source": [
    "ted = Turtle()\n",
    "ted.draw()\n",
    "ted.bgcolor(\"midnightblue\")\n",
    "ted.pencolor(\"ghostwhite\")\n",
    "for side in range(40):\n",
    "    length = side * 5\n",
    "    ted.fd(length)\n",
    "    await ted.delay(0.1)\n",
    "    ted.lt(123)\n",
    "    await ted.delay(0.1)"
   ]
  },
  {
   "cell_type": "code",
   "execution_count": 5,
   "metadata": {},
   "outputs": [
    {
     "data": {
      "application/vnd.jupyter.widget-view+json": {
       "model_id": "c22547736294443581d87a543814b64f",
       "version_major": 2,
       "version_minor": 0
      },
      "text/plain": [
       "HBox(children=(Box(children=(Canvas(height=200, width=200),), layout=Layout(height='200px', width='200px')), V…"
      ]
     },
     "metadata": {},
     "output_type": "display_data"
    }
   ],
   "source": [
    "ted = Turtle()\n",
    "ted.bgcolor(\"midnightblue\")\n",
    "ted.pencolor(\"ghostwhite\")\n",
    "ted.pensize(4)\n",
    "ted.fillcolor(\"darkorchid\")\n",
    "ted.begin_fill()\n",
    "ted.begin_poly()\n",
    "for side in range(4):\n",
    "    ted.fd(50)\n",
    "    ted.lt(90)\n",
    "ted.end_poly()\n",
    "ted.draw()"
   ]
  }
 ],
 "metadata": {
  "kernelspec": {
   "display_name": "Python 3 (ipykernel)",
   "language": "python",
   "name": "python3"
  },
  "language_info": {
   "codemirror_mode": {
    "name": "ipython",
    "version": 3
   },
   "file_extension": ".py",
   "mimetype": "text/x-python",
   "name": "python",
   "nbconvert_exporter": "python",
   "pygments_lexer": "ipython3",
   "version": "3.10.9"
  },
  "vscode": {
   "interpreter": {
    "hash": "7b5c4d2001323a33e2ff63802920bb59fd3144534881f3cee2ba181954f2f416"
   }
  }
 },
 "nbformat": 4,
 "nbformat_minor": 4
}
