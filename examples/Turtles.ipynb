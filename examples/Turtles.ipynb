{
 "cells": [
  {
   "cell_type": "code",
   "execution_count": 1,
   "metadata": {},
   "outputs": [],
   "source": [
    "from jupy5 import turtle"
   ]
  },
  {
   "cell_type": "code",
   "execution_count": 2,
   "metadata": {},
   "outputs": [],
   "source": [
    "with turtle(400, 400) as t:\n",
    "    await t.pause(2)"
   ]
  },
  {
   "cell_type": "code",
   "execution_count": 3,
   "metadata": {},
   "outputs": [],
   "source": [
    "with turtle(400, 400) as t:\n",
    "    t.pendown()\n",
    "    t.forward(100)\n",
    "    await t.pause(2)"
   ]
  },
  {
   "cell_type": "code",
   "execution_count": 4,
   "metadata": {},
   "outputs": [],
   "source": [
    "with turtle(400, 400) as t:\n",
    "    t.background('midnightblue')\n",
    "    t.pencolor('ghostwhite')\n",
    "    t.pensize(3)\n",
    "    t.pendown()\n",
    "    t.forward(100)\n",
    "    await t.pause(2)"
   ]
  },
  {
   "cell_type": "code",
   "execution_count": 5,
   "metadata": {},
   "outputs": [],
   "source": [
    "with turtle(400, 400) as t:\n",
    "    t.pendown()\n",
    "    t.forward(100)\n",
    "    await t.pause(1)\n",
    "    t.left(90)\n",
    "    t.forward(100)\n",
    "    await t.pause(1)"
   ]
  },
  {
   "cell_type": "code",
   "execution_count": 6,
   "metadata": {},
   "outputs": [],
   "source": [
    "with turtle(400, 400) as t:\n",
    "    t.pendown()\n",
    "    t.forward(100)\n",
    "    await t.pause(1)\n",
    "    t.left(90)\n",
    "    t.forward(100)\n",
    "    await t.pause(1)\n",
    "    t.left(90)\n",
    "    t.forward(100)\n",
    "    await t.pause(1)\n",
    "    t.left(90)\n",
    "    t.forward(100)\n",
    "    await t.pause(1)"
   ]
  },
  {
   "cell_type": "code",
   "execution_count": 7,
   "metadata": {},
   "outputs": [],
   "source": [
    "with turtle(400, 400) as t:\n",
    "    t.pendown()\n",
    "    t.forward(100)\n",
    "    await t.pause(1)\n",
    "    for side in range(3):\n",
    "        t.left(90)\n",
    "        t.forward(100)\n",
    "        await t.pause(1)"
   ]
  },
  {
   "cell_type": "code",
   "execution_count": 8,
   "metadata": {},
   "outputs": [],
   "source": [
    "with turtle(400, 400) as t:\n",
    "    t.pendown()\n",
    "    for side in range(4):\n",
    "        t.left(90)\n",
    "        t.forward(100)\n",
    "        await t.pause(1)"
   ]
  },
  {
   "cell_type": "code",
   "execution_count": 9,
   "metadata": {},
   "outputs": [],
   "source": [
    "with turtle(400, 400) as t:\n",
    "    t.pendown()\n",
    "    for side in range(4):\n",
    "        t.forward(100)\n",
    "        t.left(90)\n",
    "        await t.pause(1)"
   ]
  }
 ],
 "metadata": {
  "kernelspec": {
   "display_name": "Python 3 (ipykernel)",
   "language": "python",
   "name": "python3"
  },
  "language_info": {
   "codemirror_mode": {
    "name": "ipython",
    "version": 3
   },
   "file_extension": ".py",
   "mimetype": "text/x-python",
   "name": "python",
   "nbconvert_exporter": "python",
   "pygments_lexer": "ipython3",
   "version": "3.10.6"
  }
 },
 "nbformat": 4,
 "nbformat_minor": 4
}
