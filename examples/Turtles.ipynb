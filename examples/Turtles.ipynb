{
 "cells": [
  {
   "cell_type": "code",
   "execution_count": 1,
   "metadata": {},
   "outputs": [],
   "source": [
    "from jupy5 import Turtle"
   ]
  },
  {
   "cell_type": "code",
   "execution_count": 2,
   "metadata": {},
   "outputs": [
    {
     "data": {
      "application/vnd.jupyter.widget-view+json": {
       "model_id": "f4403152623f424698887aa4c98844db",
       "version_major": 2,
       "version_minor": 0
      },
      "text/plain": [
       "HBox(children=(Box(children=(Canvas(height=200, width=200),), layout=Layout(height='200px', width='200px')), V…"
      ]
     },
     "metadata": {},
     "output_type": "display_data"
    }
   ],
   "source": [
    "t = Turtle()\n",
    "t.pendown()\n",
    "t.forward(50)\n",
    "t.draw()"
   ]
  },
  {
   "cell_type": "code",
   "execution_count": 3,
   "metadata": {},
   "outputs": [
    {
     "data": {
      "application/vnd.jupyter.widget-view+json": {
       "model_id": "9cf5945c55134f2f9e72659b18728d97",
       "version_major": 2,
       "version_minor": 0
      },
      "text/plain": [
       "HBox(children=(Box(children=(Canvas(height=200, width=200),), layout=Layout(height='200px', width='200px')), V…"
      ]
     },
     "metadata": {},
     "output_type": "display_data"
    }
   ],
   "source": [
    "t = Turtle()\n",
    "t.draw()\n",
    "t.bgcolor('midnightblue')\n",
    "t.pencolor('ghostwhite')\n",
    "t.pensize(2)\n",
    "t.pendown()\n",
    "for side in range(4):\n",
    "    t.forward(50)\n",
    "    t.left(90)\n",
    "    await t.delay(1)"
   ]
  },
  {
   "cell_type": "code",
   "execution_count": 4,
   "metadata": {},
   "outputs": [
    {
     "data": {
      "application/vnd.jupyter.widget-view+json": {
       "model_id": "72b316bfb8b14ea483549e503786ad59",
       "version_major": 2,
       "version_minor": 0
      },
      "text/plain": [
       "HBox(children=(Box(children=(Canvas(height=200, width=200),), layout=Layout(height='200px', width='200px')), V…"
      ]
     },
     "metadata": {},
     "output_type": "display_data"
    }
   ],
   "source": [
    "t = Turtle()\n",
    "t.bgcolor('midnightblue')\n",
    "t.pencolor('ghostwhite')\n",
    "t.pendown()\n",
    "t.pensize(4)\n",
    "t.fillcolor('darkorchid')\n",
    "t.begin_fill()\n",
    "t.begin_poly()\n",
    "for side in range(4):\n",
    "    t.forward(50)\n",
    "    t.left(90)\n",
    "t.end_poly()\n",
    "t.draw()"
   ]
  },
  {
   "cell_type": "code",
   "execution_count": 5,
   "metadata": {},
   "outputs": [
    {
     "data": {
      "application/vnd.jupyter.widget-view+json": {
       "model_id": "f93fdacc1dff4acdbaf6b8c35dee14de",
       "version_major": 2,
       "version_minor": 0
      },
      "text/plain": [
       "HBox(children=(Box(children=(Canvas(height=200, width=200),), layout=Layout(height='200px', width='200px')), V…"
      ]
     },
     "metadata": {},
     "output_type": "display_data"
    }
   ],
   "source": [
    "t = Turtle()\n",
    "t.draw()\n",
    "t.bgcolor('midnightblue')\n",
    "t.pencolor('ghostwhite')\n",
    "t.pendown()\n",
    "side = 5\n",
    "while side < t.width:\n",
    "    t.forward(side)\n",
    "    t.left(90)\n",
    "    await t.delay(0.1)\n",
    "    side += 5"
   ]
  }
 ],
 "metadata": {
  "kernelspec": {
   "display_name": "Python 3 (ipykernel)",
   "language": "python",
   "name": "python3"
  },
  "language_info": {
   "codemirror_mode": {
    "name": "ipython",
    "version": 3
   },
   "file_extension": ".py",
   "mimetype": "text/x-python",
   "name": "python",
   "nbconvert_exporter": "python",
   "pygments_lexer": "ipython3",
   "version": "3.10.8"
  },
  "vscode": {
   "interpreter": {
    "hash": "7b5c4d2001323a33e2ff63802920bb59fd3144534881f3cee2ba181954f2f416"
   }
  }
 },
 "nbformat": 4,
 "nbformat_minor": 4
}
