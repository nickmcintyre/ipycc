{
 "cells": [
  {
   "cell_type": "code",
   "execution_count": 1,
   "metadata": {},
   "outputs": [],
   "source": [
    "from jupy5 import Turtle"
   ]
  },
  {
   "cell_type": "code",
   "execution_count": 2,
   "metadata": {},
   "outputs": [
    {
     "data": {
      "application/vnd.jupyter.widget-view+json": {
       "model_id": "4f8956bd5f14464d9786880c2ff7f99a",
       "version_major": 2,
       "version_minor": 0
      },
      "text/plain": [
       "Turtle(height=200, width=200)"
      ]
     },
     "metadata": {},
     "output_type": "display_data"
    }
   ],
   "source": [
    "t = Turtle(200, 200)\n",
    "t.pendown()\n",
    "t.forward(50)\n",
    "t"
   ]
  },
  {
   "cell_type": "code",
   "execution_count": 3,
   "metadata": {},
   "outputs": [
    {
     "data": {
      "application/vnd.jupyter.widget-view+json": {
       "model_id": "9e8fd6d649d14548af93474d42417f71",
       "version_major": 2,
       "version_minor": 0
      },
      "text/plain": [
       "Turtle(height=200, width=200)"
      ]
     },
     "metadata": {},
     "output_type": "display_data"
    }
   ],
   "source": [
    "t = Turtle(200, 200)\n",
    "t.bgcolor('midnightblue')\n",
    "t.pencolor('ghostwhite')\n",
    "t.pensize(3)\n",
    "t.pendown()\n",
    "t.forward(50)\n",
    "t"
   ]
  },
  {
   "cell_type": "code",
   "execution_count": 4,
   "metadata": {},
   "outputs": [
    {
     "data": {
      "application/vnd.jupyter.widget-view+json": {
       "model_id": "bdbaa2f8b0604e4c9b673f2201b8d013",
       "version_major": 2,
       "version_minor": 0
      },
      "text/plain": [
       "Turtle(height=200, width=200)"
      ]
     },
     "metadata": {},
     "output_type": "display_data"
    }
   ],
   "source": [
    "t = Turtle(200, 200)\n",
    "t.bgcolor('midnightblue')\n",
    "t"
   ]
  },
  {
   "cell_type": "code",
   "execution_count": 5,
   "metadata": {},
   "outputs": [],
   "source": [
    "t.bgcolor('midnightblue')\n",
    "t.pencolor('ghostwhite')\n",
    "t.pensize(2)\n",
    "t.pendown()\n",
    "for side in range(4):\n",
    "    t.forward(50)\n",
    "    t.left(90)"
   ]
  },
  {
   "cell_type": "code",
   "execution_count": 6,
   "metadata": {},
   "outputs": [],
   "source": [
    "t.remove()\n",
    "t.bgcolor('midnightblue')\n",
    "t.pencolor('ghostwhite')\n",
    "t.pensize(2)\n",
    "t.pendown()\n",
    "for side in range(4):\n",
    "    t.forward(50)\n",
    "    t.left(90)\n",
    "    await t.delay(1)"
   ]
  },
  {
   "cell_type": "code",
   "execution_count": 7,
   "metadata": {},
   "outputs": [],
   "source": [
    "t.bgcolor('midnightblue')\n",
    "t.pencolor('ghostwhite')\n",
    "t.pendown()\n",
    "t.pensize(4)\n",
    "t.fillcolor('darkorchid')\n",
    "t.begin_fill()\n",
    "t.begin_poly()\n",
    "for side in range(4):\n",
    "    t.forward(50)\n",
    "    t.left(90)\n",
    "t.end_poly()"
   ]
  }
 ],
 "metadata": {
  "kernelspec": {
   "display_name": "Python 3 (ipykernel)",
   "language": "python",
   "name": "python3"
  },
  "language_info": {
   "codemirror_mode": {
    "name": "ipython",
    "version": 3
   },
   "file_extension": ".py",
   "mimetype": "text/x-python",
   "name": "python",
   "nbconvert_exporter": "python",
   "pygments_lexer": "ipython3",
   "version": "3.10.6"
  },
  "vscode": {
   "interpreter": {
    "hash": "7b5c4d2001323a33e2ff63802920bb59fd3144534881f3cee2ba181954f2f416"
   }
  }
 },
 "nbformat": 4,
 "nbformat_minor": 4
}
