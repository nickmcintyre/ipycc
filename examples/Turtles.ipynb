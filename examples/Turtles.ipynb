{
 "cells": [
  {
   "cell_type": "code",
   "execution_count": null,
   "metadata": {},
   "outputs": [],
   "source": [
    "from jupy5 import turtle"
   ]
  },
  {
   "cell_type": "code",
   "execution_count": null,
   "metadata": {},
   "outputs": [],
   "source": [
    "with turtle(400, 400) as t:\n",
    "    t.pendown()\n",
    "    t.forward(100)\n",
    "    t.left(90)\n",
    "    t.forward(100)\n",
    "    t.left(90)\n",
    "    t.forward(100)\n",
    "    t.left(90)\n",
    "    t.forward(100)"
   ]
  },
  {
   "cell_type": "code",
   "execution_count": null,
   "metadata": {},
   "outputs": [],
   "source": [
    "with turtle(400, 400) as t:\n",
    "    t.background('dodgerblue')\n",
    "    t.pencolor('limegreen')\n",
    "    t.pendown()\n",
    "    t.pensize(2)\n",
    "    n = 8\n",
    "    angle = 360 / n\n",
    "    d = 50\n",
    "    for x in range(n):\n",
    "        t.forward(d)\n",
    "        t.left(angle)"
   ]
  }
 ],
 "metadata": {
  "language_info": {
   "name": "python"
  },
  "orig_nbformat": 4
 },
 "nbformat": 4,
 "nbformat_minor": 2
}
