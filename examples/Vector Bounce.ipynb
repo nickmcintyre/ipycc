{
 "cells": [
  {
   "cell_type": "code",
   "execution_count": 1,
   "metadata": {
    "collapsed": false
   },
   "outputs": [
   ],
   "source": [
    "from p5 import *"
   ]
  },
  {
   "cell_type": "code",
   "execution_count": 2,
   "metadata": {
    "collapsed": false
   },
   "outputs": [
    {
     "data": {
      "text/html": "<!DOCTYPE html>\n<html>\n<head>\n      <meta charset=\"utf-8\">\n    <style>\n        html, body {\n            margin: 0;\n            padding: 0;\n        }\n        canvas {\n            display: block;\n        }\n    </style>\n  <script src=\"https://cdnjs.cloudflare.com/ajax/libs/p5.js/1.4.0/p5.js\"></script>\n  <script src=\"https://cdnjs.cloudflare.com/ajax/libs/p5.js/1.4.0/addons/p5.sound.min.js\"></script>\n  <script src=\"https://assets.computiful.org/pre-alpha/skulpt.min.js\"></script>\n  <script src=\"https://assets.computiful.org/pre-alpha/skulpt-stdlib.js\"></script>\n  <script src=\"https://cdnjs.cloudflare.com/ajax/libs/jquery/3.6.0/jquery.min.js\" integrity=\"sha512-894YE6QWD5I59HgZOGReFYm4dnWc1Qt5NtvYSaNcOP+u1T9qYdvdihz0PPSiiqn/+/3e7Jo4EaG7TubfWGUrMQ==\" crossorigin=\"anonymous\" referrerpolicy=\"no-referrer\"></script>\n  <script type=\"text/javascript\">\n    // output functions are configurable.  This one just appends some text\n// to a pre element.\nfunction outf(text) { \n    console.log(text); \n}\n\nfunction builtinRead(x) {\n    if (Sk.builtinFiles === undefined || Sk.builtinFiles[\"files\"][x] === undefined)\n            throw \"File not found: '\" + x + \"'\";\n    return Sk.builtinFiles[\"files\"][x];\n}\n\nfunction uncaught(err) {\n    const lineno = err.traceback[0].lineno;\n    const msg = err.args.v[0].v;\n    throw new Error(msg + \" on line \" + lineno);\n}\n  \nfunction runCode() {\n  $('#sketch-holder').text('');\n  const prog = $('#sketch').html();\n  Sk.pre = \"output\";\n  Sk.configure({output:outf, read:builtinRead, uncaughtException:uncaught}); \n  Sk.canvas = \"sketch-holder\";\n  const myPromise = Sk.misceval.asyncToPromise(function() {\n    return Sk.importMainWithBody(\"<stdin>\", false, prog, true);\n  });\n  myPromise.then(function(mod) {\n    console.log(' ');\n  },\n  function(err) {\n      console.log(err.toString());\n  });\n}\n</script>\n</head>\n<body>\n  <pre id=\"output\" style=\"display: none;\"></pre>\n  <div id=\"sketch-holder\"></div>\n  <script id=\"sketch\" type=\"text/python\">\nfrom p5 import *\nr = 25\n\ndef setup():\n    createCanvas(400, 400)\n    global pos, vel\n    pos = createVector(width / 2, height / 2)\n    vel = createVector(2, 1)\n\ndef draw():\n    background(220)\n\n    pos.add(vel)\n\n    circle(pos.x, pos.y, 2 * r)\n\n    if pos.x &gt; width - r or pos.x &lt; r:\n        vel.x *= -1\n    if pos.y &gt; height -r or pos.y &lt; r:\n        vel.y *= -1\n\nrun()\n  </script>\n  <script type=\"text/javascript\">\n    runCode();  \n  </script>\n</body>\n</html>\n",
      "text/plain": [
       "<IPython.core.display.HTML object>"
      ]
     },
     "execution_count": 2,
     "metadata": {
     },
     "output_type": "execute_result"
    }
   ],
   "source": [
    "%%sketch vector-bounce\n",
    "r = 25\n",
    "\n",
    "def setup():\n",
    "    createCanvas(400, 400)\n",
    "    global pos, vel\n",
    "    pos = createVector(width / 2, height / 2)\n",
    "    vel = createVector(2, 1)\n",
    "\n",
    "def draw():\n",
    "    background(220)\n",
    "\n",
    "    pos.add(vel)\n",
    "\n",
    "    circle(pos.x, pos.y, 2 * r)\n",
    "\n",
    "    if pos.x > width - r or pos.x < r:\n",
    "        vel.x *= -1\n",
    "    if pos.y > height -r or pos.y < r:\n",
    "        vel.y *= -1"
   ]
  },
  {
   "cell_type": "code",
   "execution_count": 0,
   "metadata": {
    "collapsed": false
   },
   "outputs": [
   ],
   "source": [
   ]
  }
 ],
 "metadata": {
  "kernelspec": {
   "display_name": "py5",
   "language": "python",
   "metadata": {
    "debugger": true
   },
   "name": "py5",
   "resource_dir": "/home/user/.local/share/jupyter/kernels/py5"
  },
  "language_info": {
   "codemirror_mode": {
    "name": "ipython",
    "version": 3
   },
   "file_extension": ".py",
   "mimetype": "text/x-python",
   "name": "python",
   "nbconvert_exporter": "python",
   "pygments_lexer": "ipython3",
   "version": "3.8.10"
  }
 },
 "nbformat": 4,
 "nbformat_minor": 4
}